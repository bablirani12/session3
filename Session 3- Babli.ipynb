{
 "cells": [
  {
   "cell_type": "markdown",
   "id": "10d3fa1e",
   "metadata": {},
   "source": [
    "# Data Structures"
   ]
  },
  {
   "cell_type": "markdown",
   "id": "1fe068ff",
   "metadata": {},
   "source": [
    "List"
   ]
  },
  {
   "cell_type": "code",
   "execution_count": 6,
   "id": "838edec7",
   "metadata": {},
   "outputs": [],
   "source": [
    "list1=[11,12,13,14,15]"
   ]
  },
  {
   "cell_type": "code",
   "execution_count": 7,
   "id": "70870c48",
   "metadata": {},
   "outputs": [],
   "source": [
    "list1.append(16)"
   ]
  },
  {
   "cell_type": "code",
   "execution_count": 8,
   "id": "d33e3fd2",
   "metadata": {},
   "outputs": [
    {
     "data": {
      "text/plain": [
       "[11, 12, 13, 14, 15, 16]"
      ]
     },
     "execution_count": 8,
     "metadata": {},
     "output_type": "execute_result"
    }
   ],
   "source": [
    "list1"
   ]
  },
  {
   "cell_type": "code",
   "execution_count": 9,
   "id": "74558d32",
   "metadata": {},
   "outputs": [],
   "source": [
    "list1.append(17)"
   ]
  },
  {
   "cell_type": "code",
   "execution_count": 10,
   "id": "a4e3e367",
   "metadata": {},
   "outputs": [
    {
     "data": {
      "text/plain": [
       "[11, 12, 13, 14, 15, 16, 17]"
      ]
     },
     "execution_count": 10,
     "metadata": {},
     "output_type": "execute_result"
    }
   ],
   "source": [
    "list1"
   ]
  },
  {
   "cell_type": "code",
   "execution_count": 3,
   "id": "91c5b25d",
   "metadata": {},
   "outputs": [],
   "source": [
    "list2=[41.9,56.8,90.9,43.87]"
   ]
  },
  {
   "cell_type": "code",
   "execution_count": 4,
   "id": "3ae25932",
   "metadata": {},
   "outputs": [
    {
     "data": {
      "text/plain": [
       "[41.9, 56.8, 90.9, 43.87]"
      ]
     },
     "execution_count": 4,
     "metadata": {},
     "output_type": "execute_result"
    }
   ],
   "source": [
    "list2"
   ]
  },
  {
   "cell_type": "code",
   "execution_count": 11,
   "id": "b6370992",
   "metadata": {},
   "outputs": [],
   "source": [
    "listfruit=['grapes', 'banana', 'apple', 'papaya']"
   ]
  },
  {
   "cell_type": "code",
   "execution_count": 12,
   "id": "1335ced0",
   "metadata": {},
   "outputs": [
    {
     "data": {
      "text/plain": [
       "['grapes', 'banana', 'apple', 'papaya']"
      ]
     },
     "execution_count": 12,
     "metadata": {},
     "output_type": "execute_result"
    }
   ],
   "source": [
    "listfruit"
   ]
  },
  {
   "cell_type": "code",
   "execution_count": 13,
   "id": "efdf903d",
   "metadata": {},
   "outputs": [],
   "source": [
    "listfruit.append(\"kiwi\")"
   ]
  },
  {
   "cell_type": "code",
   "execution_count": 14,
   "id": "0d22289f",
   "metadata": {},
   "outputs": [
    {
     "data": {
      "text/plain": [
       "['grapes', 'banana', 'apple', 'papaya', 'kiwi']"
      ]
     },
     "execution_count": 14,
     "metadata": {},
     "output_type": "execute_result"
    }
   ],
   "source": [
    "listfruit"
   ]
  },
  {
   "cell_type": "code",
   "execution_count": 15,
   "id": "ec6ff538",
   "metadata": {},
   "outputs": [
    {
     "data": {
      "text/plain": [
       "5"
      ]
     },
     "execution_count": 15,
     "metadata": {},
     "output_type": "execute_result"
    }
   ],
   "source": [
    "len(listfruit)"
   ]
  },
  {
   "cell_type": "code",
   "execution_count": 16,
   "id": "5b3c2d77",
   "metadata": {},
   "outputs": [
    {
     "data": {
      "text/plain": [
       "'grapes'"
      ]
     },
     "execution_count": 16,
     "metadata": {},
     "output_type": "execute_result"
    }
   ],
   "source": [
    "listfruit[0]"
   ]
  },
  {
   "cell_type": "code",
   "execution_count": 17,
   "id": "06d2b346",
   "metadata": {},
   "outputs": [
    {
     "data": {
      "text/plain": [
       "'banana'"
      ]
     },
     "execution_count": 17,
     "metadata": {},
     "output_type": "execute_result"
    }
   ],
   "source": [
    "listfruit[1]"
   ]
  },
  {
   "cell_type": "code",
   "execution_count": 18,
   "id": "4bfd9ec7",
   "metadata": {},
   "outputs": [
    {
     "data": {
      "text/plain": [
       "'papaya'"
      ]
     },
     "execution_count": 18,
     "metadata": {},
     "output_type": "execute_result"
    }
   ],
   "source": [
    "listfruit[3]"
   ]
  },
  {
   "cell_type": "code",
   "execution_count": 19,
   "id": "ada6f0b1",
   "metadata": {},
   "outputs": [
    {
     "data": {
      "text/plain": [
       "['grapes', 'banana']"
      ]
     },
     "execution_count": 19,
     "metadata": {},
     "output_type": "execute_result"
    }
   ],
   "source": [
    "listfruit[0:2]"
   ]
  },
  {
   "cell_type": "code",
   "execution_count": 20,
   "id": "d1cb1955",
   "metadata": {},
   "outputs": [
    {
     "data": {
      "text/plain": [
       "['banana', 'apple', 'papaya']"
      ]
     },
     "execution_count": 20,
     "metadata": {},
     "output_type": "execute_result"
    }
   ],
   "source": [
    "listfruit[1:4]"
   ]
  },
  {
   "cell_type": "code",
   "execution_count": 21,
   "id": "082b8e7b",
   "metadata": {},
   "outputs": [
    {
     "data": {
      "text/plain": [
       "'kiwi'"
      ]
     },
     "execution_count": 21,
     "metadata": {},
     "output_type": "execute_result"
    }
   ],
   "source": [
    "listfruit[-1]"
   ]
  },
  {
   "cell_type": "code",
   "execution_count": 22,
   "id": "edf84784",
   "metadata": {},
   "outputs": [
    {
     "data": {
      "text/plain": [
       "['grapes', 'banana', 'apple', 'papaya', 'kiwi']"
      ]
     },
     "execution_count": 22,
     "metadata": {},
     "output_type": "execute_result"
    }
   ],
   "source": [
    "listfruit"
   ]
  },
  {
   "cell_type": "code",
   "execution_count": 23,
   "id": "85ff95b2",
   "metadata": {},
   "outputs": [],
   "source": [
    "listfruit.insert(1, 'watermelon')"
   ]
  },
  {
   "cell_type": "code",
   "execution_count": 24,
   "id": "9a469c82",
   "metadata": {},
   "outputs": [
    {
     "data": {
      "text/plain": [
       "['grapes', 'watermelon', 'banana', 'apple', 'papaya', 'kiwi']"
      ]
     },
     "execution_count": 24,
     "metadata": {},
     "output_type": "execute_result"
    }
   ],
   "source": [
    "listfruit"
   ]
  },
  {
   "cell_type": "code",
   "execution_count": 25,
   "id": "1513cff7",
   "metadata": {},
   "outputs": [],
   "source": [
    "list1=[11, 12, 13, 14, 15, 16, 17]"
   ]
  },
  {
   "cell_type": "code",
   "execution_count": 26,
   "id": "a1034997",
   "metadata": {},
   "outputs": [],
   "source": [
    "list1.insert(3,900)"
   ]
  },
  {
   "cell_type": "code",
   "execution_count": 27,
   "id": "ef095d52",
   "metadata": {},
   "outputs": [
    {
     "data": {
      "text/plain": [
       "[11, 12, 13, 900, 14, 15, 16, 17]"
      ]
     },
     "execution_count": 27,
     "metadata": {},
     "output_type": "execute_result"
    }
   ],
   "source": [
    "list1"
   ]
  },
  {
   "cell_type": "code",
   "execution_count": 28,
   "id": "8206b4e9",
   "metadata": {},
   "outputs": [
    {
     "data": {
      "text/plain": [
       "['grapes', 'watermelon', 'banana', 'apple', 'papaya', 'kiwi']"
      ]
     },
     "execution_count": 28,
     "metadata": {},
     "output_type": "execute_result"
    }
   ],
   "source": [
    "listfruit"
   ]
  },
  {
   "cell_type": "code",
   "execution_count": 29,
   "id": "8019bec1",
   "metadata": {},
   "outputs": [
    {
     "data": {
      "text/plain": [
       "6"
      ]
     },
     "execution_count": 29,
     "metadata": {},
     "output_type": "execute_result"
    }
   ],
   "source": [
    "len(listfruit)"
   ]
  },
  {
   "cell_type": "code",
   "execution_count": 30,
   "id": "55c434ea",
   "metadata": {},
   "outputs": [],
   "source": [
    "listfruit.sort()"
   ]
  },
  {
   "cell_type": "code",
   "execution_count": 31,
   "id": "2f8f4cf1",
   "metadata": {},
   "outputs": [
    {
     "data": {
      "text/plain": [
       "['apple', 'banana', 'grapes', 'kiwi', 'papaya', 'watermelon']"
      ]
     },
     "execution_count": 31,
     "metadata": {},
     "output_type": "execute_result"
    }
   ],
   "source": [
    "listfruit"
   ]
  },
  {
   "cell_type": "code",
   "execution_count": 32,
   "id": "3543e729",
   "metadata": {},
   "outputs": [],
   "source": [
    "listfruit.reverse()"
   ]
  },
  {
   "cell_type": "code",
   "execution_count": 33,
   "id": "7d059eda",
   "metadata": {},
   "outputs": [
    {
     "data": {
      "text/plain": [
       "['watermelon', 'papaya', 'kiwi', 'grapes', 'banana', 'apple']"
      ]
     },
     "execution_count": 33,
     "metadata": {},
     "output_type": "execute_result"
    }
   ],
   "source": [
    "listfruit"
   ]
  },
  {
   "cell_type": "code",
   "execution_count": 35,
   "id": "0e35c4bb",
   "metadata": {},
   "outputs": [
    {
     "data": {
      "text/plain": [
       "3"
      ]
     },
     "execution_count": 35,
     "metadata": {},
     "output_type": "execute_result"
    }
   ],
   "source": [
    "listfruit.index('grapes')"
   ]
  },
  {
   "cell_type": "code",
   "execution_count": 36,
   "id": "c5e0f432",
   "metadata": {},
   "outputs": [
    {
     "data": {
      "text/plain": [
       "1"
      ]
     },
     "execution_count": 36,
     "metadata": {},
     "output_type": "execute_result"
    }
   ],
   "source": [
    "listfruit.index('papaya')"
   ]
  },
  {
   "cell_type": "code",
   "execution_count": 37,
   "id": "d5fcaf49",
   "metadata": {},
   "outputs": [],
   "source": [
    "newlist=[\"lemon\", \"Dragonfruit\"]"
   ]
  },
  {
   "cell_type": "code",
   "execution_count": 38,
   "id": "67e8f030",
   "metadata": {},
   "outputs": [
    {
     "data": {
      "text/plain": [
       "['lemon', 'Dragonfruit']"
      ]
     },
     "execution_count": 38,
     "metadata": {},
     "output_type": "execute_result"
    }
   ],
   "source": [
    "newlist"
   ]
  },
  {
   "cell_type": "code",
   "execution_count": 39,
   "id": "f4f793b9",
   "metadata": {},
   "outputs": [],
   "source": [
    "listfruit.extend(newlist)"
   ]
  },
  {
   "cell_type": "code",
   "execution_count": 40,
   "id": "bc11a5a1",
   "metadata": {},
   "outputs": [
    {
     "data": {
      "text/plain": [
       "['watermelon',\n",
       " 'papaya',\n",
       " 'kiwi',\n",
       " 'grapes',\n",
       " 'banana',\n",
       " 'apple',\n",
       " 'lemon',\n",
       " 'Dragonfruit']"
      ]
     },
     "execution_count": 40,
     "metadata": {},
     "output_type": "execute_result"
    }
   ],
   "source": [
    "listfruit"
   ]
  },
  {
   "cell_type": "code",
   "execution_count": 41,
   "id": "b64ba743",
   "metadata": {},
   "outputs": [],
   "source": [
    "listfruit.extend(['lemon', 'dragaonfruit'])"
   ]
  },
  {
   "cell_type": "code",
   "execution_count": 42,
   "id": "cf3ff43b",
   "metadata": {},
   "outputs": [
    {
     "data": {
      "text/plain": [
       "['watermelon',\n",
       " 'papaya',\n",
       " 'kiwi',\n",
       " 'grapes',\n",
       " 'banana',\n",
       " 'apple',\n",
       " 'lemon',\n",
       " 'Dragonfruit',\n",
       " 'lemon',\n",
       " 'dragaonfruit']"
      ]
     },
     "execution_count": 42,
     "metadata": {},
     "output_type": "execute_result"
    }
   ],
   "source": [
    "listfruit"
   ]
  },
  {
   "cell_type": "code",
   "execution_count": 43,
   "id": "5dc07d56",
   "metadata": {},
   "outputs": [],
   "source": [
    "listfruit.append(['f1', 'f2'])"
   ]
  },
  {
   "cell_type": "code",
   "execution_count": 44,
   "id": "c3057267",
   "metadata": {},
   "outputs": [
    {
     "data": {
      "text/plain": [
       "['watermelon',\n",
       " 'papaya',\n",
       " 'kiwi',\n",
       " 'grapes',\n",
       " 'banana',\n",
       " 'apple',\n",
       " 'lemon',\n",
       " 'Dragonfruit',\n",
       " 'lemon',\n",
       " 'dragaonfruit',\n",
       " ['f1', 'f2']]"
      ]
     },
     "execution_count": 44,
     "metadata": {},
     "output_type": "execute_result"
    }
   ],
   "source": [
    "listfruit"
   ]
  },
  {
   "cell_type": "code",
   "execution_count": 47,
   "id": "decad17c",
   "metadata": {},
   "outputs": [],
   "source": [
    "listfruit=[['watermelon', 'papaya', 'kiwi', 'grapes', 'banana', 'apple']]"
   ]
  },
  {
   "cell_type": "code",
   "execution_count": 48,
   "id": "4698e355",
   "metadata": {},
   "outputs": [
    {
     "data": {
      "text/plain": [
       "[['watermelon', 'papaya', 'kiwi', 'grapes', 'banana', 'apple']]"
      ]
     },
     "execution_count": 48,
     "metadata": {},
     "output_type": "execute_result"
    }
   ],
   "source": [
    "listfruit"
   ]
  },
  {
   "cell_type": "code",
   "execution_count": 49,
   "id": "d23d7f11",
   "metadata": {},
   "outputs": [
    {
     "data": {
      "text/plain": [
       "['watermelon', 'papaya', 'kiwi', 'grapes', 'banana', 'apple']"
      ]
     },
     "execution_count": 49,
     "metadata": {},
     "output_type": "execute_result"
    }
   ],
   "source": [
    "listfruit.pop()"
   ]
  },
  {
   "cell_type": "code",
   "execution_count": 53,
   "id": "1a5aaa10",
   "metadata": {},
   "outputs": [],
   "source": [
    "listfruit=['watermelon', 'papaya', 'kiwi', 'grapes', 'banana', 'apple']"
   ]
  },
  {
   "cell_type": "code",
   "execution_count": 54,
   "id": "ca2f86e7",
   "metadata": {},
   "outputs": [
    {
     "data": {
      "text/plain": [
       "['watermelon', 'papaya', 'kiwi', 'grapes', 'banana', 'apple']"
      ]
     },
     "execution_count": 54,
     "metadata": {},
     "output_type": "execute_result"
    }
   ],
   "source": [
    "listfruit"
   ]
  },
  {
   "cell_type": "code",
   "execution_count": 55,
   "id": "06bcd396",
   "metadata": {},
   "outputs": [
    {
     "data": {
      "text/plain": [
       "'apple'"
      ]
     },
     "execution_count": 55,
     "metadata": {},
     "output_type": "execute_result"
    }
   ],
   "source": [
    "listfruit.pop()"
   ]
  },
  {
   "cell_type": "code",
   "execution_count": 56,
   "id": "307d4f11",
   "metadata": {},
   "outputs": [
    {
     "data": {
      "text/plain": [
       "'grapes'"
      ]
     },
     "execution_count": 56,
     "metadata": {},
     "output_type": "execute_result"
    }
   ],
   "source": [
    "listfruit.pop(3)"
   ]
  },
  {
   "cell_type": "code",
   "execution_count": 57,
   "id": "a398049b",
   "metadata": {},
   "outputs": [
    {
     "data": {
      "text/plain": [
       "['watermelon', 'papaya', 'kiwi', 'banana']"
      ]
     },
     "execution_count": 57,
     "metadata": {},
     "output_type": "execute_result"
    }
   ],
   "source": [
    "listfruit"
   ]
  },
  {
   "cell_type": "code",
   "execution_count": 58,
   "id": "e245dc64",
   "metadata": {},
   "outputs": [
    {
     "data": {
      "text/plain": [
       "4"
      ]
     },
     "execution_count": 58,
     "metadata": {},
     "output_type": "execute_result"
    }
   ],
   "source": [
    "len(listfruit)"
   ]
  },
  {
   "cell_type": "code",
   "execution_count": 59,
   "id": "5ae4a840",
   "metadata": {},
   "outputs": [
    {
     "data": {
      "text/plain": [
       "'kiwi'"
      ]
     },
     "execution_count": 59,
     "metadata": {},
     "output_type": "execute_result"
    }
   ],
   "source": [
    "listfruit.pop(2)"
   ]
  },
  {
   "cell_type": "code",
   "execution_count": 60,
   "id": "5e1e5002",
   "metadata": {},
   "outputs": [
    {
     "data": {
      "text/plain": [
       "['watermelon', 'papaya', 'banana']"
      ]
     },
     "execution_count": 60,
     "metadata": {},
     "output_type": "execute_result"
    }
   ],
   "source": [
    "listfruit"
   ]
  },
  {
   "cell_type": "code",
   "execution_count": 61,
   "id": "5457fbfe",
   "metadata": {},
   "outputs": [
    {
     "data": {
      "text/plain": [
       "3"
      ]
     },
     "execution_count": 61,
     "metadata": {},
     "output_type": "execute_result"
    }
   ],
   "source": [
    "len(listfruit)"
   ]
  },
  {
   "cell_type": "code",
   "execution_count": 62,
   "id": "604a6708",
   "metadata": {},
   "outputs": [],
   "source": [
    "listfruit.remove('papaya')"
   ]
  },
  {
   "cell_type": "code",
   "execution_count": 63,
   "id": "2b2bc501",
   "metadata": {},
   "outputs": [
    {
     "data": {
      "text/plain": [
       "['watermelon', 'banana']"
      ]
     },
     "execution_count": 63,
     "metadata": {},
     "output_type": "execute_result"
    }
   ],
   "source": [
    "listfruit"
   ]
  },
  {
   "cell_type": "code",
   "execution_count": 64,
   "id": "cace4afa",
   "metadata": {},
   "outputs": [],
   "source": [
    "listfruit=['watermelon', 'papaya', 'kiwi', 'grapes', 'banana', 'apple']"
   ]
  },
  {
   "cell_type": "code",
   "execution_count": 65,
   "id": "b407c5bf",
   "metadata": {},
   "outputs": [
    {
     "data": {
      "text/plain": [
       "['watermelon', 'papaya', 'kiwi', 'grapes', 'banana', 'apple']"
      ]
     },
     "execution_count": 65,
     "metadata": {},
     "output_type": "execute_result"
    }
   ],
   "source": [
    "listfruit"
   ]
  },
  {
   "cell_type": "code",
   "execution_count": 66,
   "id": "5f720bac",
   "metadata": {},
   "outputs": [],
   "source": [
    "listfruit.clear()"
   ]
  },
  {
   "cell_type": "code",
   "execution_count": 67,
   "id": "94785222",
   "metadata": {},
   "outputs": [
    {
     "data": {
      "text/plain": [
       "[]"
      ]
     },
     "execution_count": 67,
     "metadata": {},
     "output_type": "execute_result"
    }
   ],
   "source": [
    "listfruit"
   ]
  },
  {
   "cell_type": "code",
   "execution_count": 68,
   "id": "b70b3661",
   "metadata": {},
   "outputs": [],
   "source": [
    "listfruit.append('banana')"
   ]
  },
  {
   "cell_type": "code",
   "execution_count": 69,
   "id": "26357da0",
   "metadata": {},
   "outputs": [
    {
     "data": {
      "text/plain": [
       "['banana']"
      ]
     },
     "execution_count": 69,
     "metadata": {},
     "output_type": "execute_result"
    }
   ],
   "source": [
    "listfruit"
   ]
  },
  {
   "cell_type": "code",
   "execution_count": 70,
   "id": "a874536d",
   "metadata": {},
   "outputs": [],
   "source": [
    "listfruit.append('mango')"
   ]
  },
  {
   "cell_type": "code",
   "execution_count": 71,
   "id": "77ed4b63",
   "metadata": {},
   "outputs": [
    {
     "data": {
      "text/plain": [
       "['banana', 'mango']"
      ]
     },
     "execution_count": 71,
     "metadata": {},
     "output_type": "execute_result"
    }
   ],
   "source": [
    "listfruit"
   ]
  },
  {
   "cell_type": "code",
   "execution_count": 72,
   "id": "96f755ba",
   "metadata": {},
   "outputs": [],
   "source": [
    "del listfruit"
   ]
  },
  {
   "cell_type": "code",
   "execution_count": 73,
   "id": "5f4c0139",
   "metadata": {},
   "outputs": [
    {
     "ename": "NameError",
     "evalue": "name 'listfruit' is not defined",
     "output_type": "error",
     "traceback": [
      "\u001b[1;31m---------------------------------------------------------------------------\u001b[0m",
      "\u001b[1;31mNameError\u001b[0m                                 Traceback (most recent call last)",
      "\u001b[1;32mC:\\Users\\BABLIM~1\\AppData\\Local\\Temp/ipykernel_10808/1855494486.py\u001b[0m in \u001b[0;36m<module>\u001b[1;34m\u001b[0m\n\u001b[1;32m----> 1\u001b[1;33m \u001b[0mlistfruit\u001b[0m\u001b[1;33m\u001b[0m\u001b[1;33m\u001b[0m\u001b[0m\n\u001b[0m",
      "\u001b[1;31mNameError\u001b[0m: name 'listfruit' is not defined"
     ]
    }
   ],
   "source": [
    "listfruit"
   ]
  },
  {
   "cell_type": "code",
   "execution_count": 74,
   "id": "40928ce5",
   "metadata": {},
   "outputs": [],
   "source": [
    "planetlist=['mercury', 'venus']"
   ]
  },
  {
   "cell_type": "code",
   "execution_count": 75,
   "id": "2732bf17",
   "metadata": {},
   "outputs": [
    {
     "data": {
      "text/plain": [
       "['mercury', 'venus']"
      ]
     },
     "execution_count": 75,
     "metadata": {},
     "output_type": "execute_result"
    }
   ],
   "source": [
    "planetlist"
   ]
  },
  {
   "cell_type": "code",
   "execution_count": 76,
   "id": "c6a1173f",
   "metadata": {},
   "outputs": [],
   "source": [
    "planetlist.append('earth')"
   ]
  },
  {
   "cell_type": "code",
   "execution_count": 77,
   "id": "ea8d62b2",
   "metadata": {},
   "outputs": [
    {
     "data": {
      "text/plain": [
       "['mercury', 'venus', 'earth']"
      ]
     },
     "execution_count": 77,
     "metadata": {},
     "output_type": "execute_result"
    }
   ],
   "source": [
    "planetlist"
   ]
  },
  {
   "cell_type": "code",
   "execution_count": 78,
   "id": "6a7ea165",
   "metadata": {},
   "outputs": [],
   "source": [
    "planetlist.extend(['mars', 'jupiter', 'saturn'])"
   ]
  },
  {
   "cell_type": "code",
   "execution_count": 79,
   "id": "a1cbfa91",
   "metadata": {},
   "outputs": [
    {
     "data": {
      "text/plain": [
       "['mercury', 'venus', 'earth', 'mars', 'jupiter', 'saturn']"
      ]
     },
     "execution_count": 79,
     "metadata": {},
     "output_type": "execute_result"
    }
   ],
   "source": [
    "planetlist"
   ]
  },
  {
   "cell_type": "code",
   "execution_count": 80,
   "id": "075ce9de",
   "metadata": {},
   "outputs": [],
   "source": [
    "planetlist.append('jupiter')"
   ]
  },
  {
   "cell_type": "code",
   "execution_count": 85,
   "id": "b266f92b",
   "metadata": {},
   "outputs": [
    {
     "data": {
      "text/plain": [
       "['mercury', 'venus', 'earth', 'mars', 'jupiter', 'saturn', 'jupiter']"
      ]
     },
     "execution_count": 85,
     "metadata": {},
     "output_type": "execute_result"
    }
   ],
   "source": [
    "planetlist"
   ]
  },
  {
   "cell_type": "code",
   "execution_count": 82,
   "id": "5c30f0cd",
   "metadata": {},
   "outputs": [
    {
     "data": {
      "text/plain": [
       "7"
      ]
     },
     "execution_count": 82,
     "metadata": {},
     "output_type": "execute_result"
    }
   ],
   "source": [
    "len(planetlist)"
   ]
  },
  {
   "cell_type": "code",
   "execution_count": 86,
   "id": "b054e614",
   "metadata": {},
   "outputs": [],
   "source": [
    "planetlist.sort()"
   ]
  },
  {
   "cell_type": "code",
   "execution_count": 87,
   "id": "4d7439d5",
   "metadata": {},
   "outputs": [
    {
     "data": {
      "text/plain": [
       "['earth', 'jupiter', 'jupiter', 'mars', 'mercury', 'saturn', 'venus']"
      ]
     },
     "execution_count": 87,
     "metadata": {},
     "output_type": "execute_result"
    }
   ],
   "source": [
    "planetlist"
   ]
  },
  {
   "cell_type": "code",
   "execution_count": 88,
   "id": "b872f2e5",
   "metadata": {},
   "outputs": [],
   "source": [
    "planetlist.reverse()"
   ]
  },
  {
   "cell_type": "code",
   "execution_count": 89,
   "id": "225f87e9",
   "metadata": {},
   "outputs": [
    {
     "data": {
      "text/plain": [
       "['venus', 'saturn', 'mercury', 'mars', 'jupiter', 'jupiter', 'earth']"
      ]
     },
     "execution_count": 89,
     "metadata": {},
     "output_type": "execute_result"
    }
   ],
   "source": [
    "planetlist"
   ]
  },
  {
   "cell_type": "code",
   "execution_count": 91,
   "id": "b18e3a26",
   "metadata": {},
   "outputs": [
    {
     "data": {
      "text/plain": [
       "['saturn', 'mercury', 'mars']"
      ]
     },
     "execution_count": 91,
     "metadata": {},
     "output_type": "execute_result"
    }
   ],
   "source": [
    "planetlist[1:4]"
   ]
  },
  {
   "cell_type": "code",
   "execution_count": 92,
   "id": "05d85342",
   "metadata": {},
   "outputs": [
    {
     "data": {
      "text/plain": [
       "'mercury'"
      ]
     },
     "execution_count": 92,
     "metadata": {},
     "output_type": "execute_result"
    }
   ],
   "source": [
    "planetlist[2]"
   ]
  },
  {
   "cell_type": "code",
   "execution_count": 95,
   "id": "9b3900d5",
   "metadata": {},
   "outputs": [],
   "source": [
    "planetlist=['mercury', 'venus', 'pluto', 'uranus']"
   ]
  },
  {
   "cell_type": "code",
   "execution_count": 96,
   "id": "4a31f8c6",
   "metadata": {},
   "outputs": [
    {
     "data": {
      "text/plain": [
       "['mercury', 'venus', 'pluto', 'uranus']"
      ]
     },
     "execution_count": 96,
     "metadata": {},
     "output_type": "execute_result"
    }
   ],
   "source": [
    "planetlist"
   ]
  },
  {
   "cell_type": "code",
   "execution_count": 97,
   "id": "abd597ea",
   "metadata": {},
   "outputs": [
    {
     "data": {
      "text/plain": [
       "'pluto'"
      ]
     },
     "execution_count": 97,
     "metadata": {},
     "output_type": "execute_result"
    }
   ],
   "source": [
    "planetlist[2]"
   ]
  },
  {
   "cell_type": "code",
   "execution_count": 98,
   "id": "9c3b5be6",
   "metadata": {},
   "outputs": [],
   "source": [
    "planetlist[2]='sun'"
   ]
  },
  {
   "cell_type": "code",
   "execution_count": 99,
   "id": "d564b28f",
   "metadata": {},
   "outputs": [
    {
     "data": {
      "text/plain": [
       "['mercury', 'venus', 'sun', 'uranus']"
      ]
     },
     "execution_count": 99,
     "metadata": {},
     "output_type": "execute_result"
    }
   ],
   "source": [
    "planetlist"
   ]
  },
  {
   "cell_type": "code",
   "execution_count": 100,
   "id": "c50f2234",
   "metadata": {},
   "outputs": [],
   "source": [
    "planetlist.clear()"
   ]
  },
  {
   "cell_type": "code",
   "execution_count": 101,
   "id": "ba433735",
   "metadata": {},
   "outputs": [
    {
     "data": {
      "text/plain": [
       "[]"
      ]
     },
     "execution_count": 101,
     "metadata": {},
     "output_type": "execute_result"
    }
   ],
   "source": [
    "planetlist"
   ]
  },
  {
   "cell_type": "code",
   "execution_count": 103,
   "id": "b7d8d779",
   "metadata": {
    "scrolled": true
   },
   "outputs": [
    {
     "ename": "NameError",
     "evalue": "name 'planetlist' is not defined",
     "output_type": "error",
     "traceback": [
      "\u001b[1;31m---------------------------------------------------------------------------\u001b[0m",
      "\u001b[1;31mNameError\u001b[0m                                 Traceback (most recent call last)",
      "\u001b[1;32mC:\\Users\\BABLIM~1\\AppData\\Local\\Temp/ipykernel_10808/578006580.py\u001b[0m in \u001b[0;36m<module>\u001b[1;34m\u001b[0m\n\u001b[1;32m----> 1\u001b[1;33m \u001b[1;32mdel\u001b[0m \u001b[0mplanetlist\u001b[0m\u001b[1;33m\u001b[0m\u001b[1;33m\u001b[0m\u001b[0m\n\u001b[0m",
      "\u001b[1;31mNameError\u001b[0m: name 'planetlist' is not defined"
     ]
    }
   ],
   "source": [
    "del planetlist"
   ]
  },
  {
   "cell_type": "code",
   "execution_count": 104,
   "id": "6fa5b9f3",
   "metadata": {},
   "outputs": [],
   "source": [
    "numlist=[100,200,300,400,500,600]"
   ]
  },
  {
   "cell_type": "code",
   "execution_count": 105,
   "id": "30b02676",
   "metadata": {},
   "outputs": [
    {
     "data": {
      "text/plain": [
       "[100, 200, 300, 400, 500, 600]"
      ]
     },
     "execution_count": 105,
     "metadata": {},
     "output_type": "execute_result"
    }
   ],
   "source": [
    "numlist"
   ]
  },
  {
   "cell_type": "code",
   "execution_count": 106,
   "id": "c1091ed9",
   "metadata": {},
   "outputs": [
    {
     "data": {
      "text/plain": [
       "600"
      ]
     },
     "execution_count": 106,
     "metadata": {},
     "output_type": "execute_result"
    }
   ],
   "source": [
    "numlist[5]"
   ]
  },
  {
   "cell_type": "code",
   "execution_count": 107,
   "id": "aabb6b33",
   "metadata": {},
   "outputs": [
    {
     "data": {
      "text/plain": [
       "500"
      ]
     },
     "execution_count": 107,
     "metadata": {},
     "output_type": "execute_result"
    }
   ],
   "source": [
    "numlist[4]"
   ]
  },
  {
   "cell_type": "code",
   "execution_count": 108,
   "id": "88af04d2",
   "metadata": {},
   "outputs": [],
   "source": [
    "numlist[4]=345"
   ]
  },
  {
   "cell_type": "code",
   "execution_count": 109,
   "id": "6a6eeacf",
   "metadata": {},
   "outputs": [
    {
     "data": {
      "text/plain": [
       "[100, 200, 300, 400, 345, 600]"
      ]
     },
     "execution_count": 109,
     "metadata": {},
     "output_type": "execute_result"
    }
   ],
   "source": [
    "numlist"
   ]
  },
  {
   "cell_type": "code",
   "execution_count": 111,
   "id": "ca08b2ae",
   "metadata": {},
   "outputs": [],
   "source": [
    "numlist.clear()"
   ]
  },
  {
   "cell_type": "code",
   "execution_count": 112,
   "id": "0035bf05",
   "metadata": {},
   "outputs": [
    {
     "data": {
      "text/plain": [
       "[]"
      ]
     },
     "execution_count": 112,
     "metadata": {},
     "output_type": "execute_result"
    }
   ],
   "source": [
    "numlist"
   ]
  },
  {
   "cell_type": "code",
   "execution_count": 113,
   "id": "55786112",
   "metadata": {},
   "outputs": [],
   "source": [
    "del numlist"
   ]
  },
  {
   "cell_type": "code",
   "execution_count": 114,
   "id": "54fb280b",
   "metadata": {},
   "outputs": [
    {
     "ename": "NameError",
     "evalue": "name 'numlist' is not defined",
     "output_type": "error",
     "traceback": [
      "\u001b[1;31m---------------------------------------------------------------------------\u001b[0m",
      "\u001b[1;31mNameError\u001b[0m                                 Traceback (most recent call last)",
      "\u001b[1;32mC:\\Users\\BABLIM~1\\AppData\\Local\\Temp/ipykernel_10808/3803243408.py\u001b[0m in \u001b[0;36m<module>\u001b[1;34m\u001b[0m\n\u001b[1;32m----> 1\u001b[1;33m \u001b[0mnumlist\u001b[0m\u001b[1;33m\u001b[0m\u001b[1;33m\u001b[0m\u001b[0m\n\u001b[0m",
      "\u001b[1;31mNameError\u001b[0m: name 'numlist' is not defined"
     ]
    }
   ],
   "source": [
    "numlist"
   ]
  },
  {
   "cell_type": "markdown",
   "id": "c55ffb1d",
   "metadata": {},
   "source": [
    "# Tuples"
   ]
  },
  {
   "cell_type": "code",
   "execution_count": 115,
   "id": "8e68e8f4",
   "metadata": {},
   "outputs": [],
   "source": [
    "t1=(1,2,3,4,5,6,7,8)"
   ]
  },
  {
   "cell_type": "code",
   "execution_count": 116,
   "id": "31e65eb8",
   "metadata": {},
   "outputs": [
    {
     "data": {
      "text/plain": [
       "(1, 2, 3, 4, 5, 6, 7, 8)"
      ]
     },
     "execution_count": 116,
     "metadata": {},
     "output_type": "execute_result"
    }
   ],
   "source": [
    "t1"
   ]
  },
  {
   "cell_type": "code",
   "execution_count": 117,
   "id": "19f1f535",
   "metadata": {},
   "outputs": [],
   "source": [
    "t2=(4.7,7.8,'a', True, False)"
   ]
  },
  {
   "cell_type": "code",
   "execution_count": 118,
   "id": "7139b005",
   "metadata": {},
   "outputs": [
    {
     "data": {
      "text/plain": [
       "(4.7, 7.8, 'a', True, False)"
      ]
     },
     "execution_count": 118,
     "metadata": {},
     "output_type": "execute_result"
    }
   ],
   "source": [
    "t2"
   ]
  },
  {
   "cell_type": "code",
   "execution_count": 119,
   "id": "3555c1a3",
   "metadata": {},
   "outputs": [
    {
     "data": {
      "text/plain": [
       "(1, 2, 3, 4, 5, 6, 7, 8)"
      ]
     },
     "execution_count": 119,
     "metadata": {},
     "output_type": "execute_result"
    }
   ],
   "source": [
    "t1"
   ]
  },
  {
   "cell_type": "code",
   "execution_count": 120,
   "id": "6effadae",
   "metadata": {},
   "outputs": [
    {
     "data": {
      "text/plain": [
       "1"
      ]
     },
     "execution_count": 120,
     "metadata": {},
     "output_type": "execute_result"
    }
   ],
   "source": [
    "t1[0]"
   ]
  },
  {
   "cell_type": "code",
   "execution_count": 121,
   "id": "e2f480cd",
   "metadata": {},
   "outputs": [
    {
     "data": {
      "text/plain": [
       "5"
      ]
     },
     "execution_count": 121,
     "metadata": {},
     "output_type": "execute_result"
    }
   ],
   "source": [
    "t1[4]"
   ]
  },
  {
   "cell_type": "code",
   "execution_count": 122,
   "id": "bc8cb159",
   "metadata": {},
   "outputs": [
    {
     "ename": "TypeError",
     "evalue": "'tuple' object does not support item assignment",
     "output_type": "error",
     "traceback": [
      "\u001b[1;31m---------------------------------------------------------------------------\u001b[0m",
      "\u001b[1;31mTypeError\u001b[0m                                 Traceback (most recent call last)",
      "\u001b[1;32mC:\\Users\\BABLIM~1\\AppData\\Local\\Temp/ipykernel_10808/4187459644.py\u001b[0m in \u001b[0;36m<module>\u001b[1;34m\u001b[0m\n\u001b[1;32m----> 1\u001b[1;33m \u001b[0mt1\u001b[0m\u001b[1;33m[\u001b[0m\u001b[1;36m4\u001b[0m\u001b[1;33m]\u001b[0m\u001b[1;33m=\u001b[0m\u001b[1;36m88\u001b[0m\u001b[1;33m\u001b[0m\u001b[1;33m\u001b[0m\u001b[0m\n\u001b[0m",
      "\u001b[1;31mTypeError\u001b[0m: 'tuple' object does not support item assignment"
     ]
    }
   ],
   "source": [
    "t1[4]=88"
   ]
  },
  {
   "cell_type": "markdown",
   "id": "fd3bac65",
   "metadata": {},
   "source": [
    "# Dictionary"
   ]
  },
  {
   "cell_type": "code",
   "execution_count": 124,
   "id": "465c48eb",
   "metadata": {},
   "outputs": [],
   "source": [
    "dict1={'id':101, 'Name': 'Andrew', 'Age':10}"
   ]
  },
  {
   "cell_type": "code",
   "execution_count": 125,
   "id": "a36f744b",
   "metadata": {},
   "outputs": [
    {
     "data": {
      "text/plain": [
       "{'id': 101, 'Name': 'Andrew', 'Age': 10}"
      ]
     },
     "execution_count": 125,
     "metadata": {},
     "output_type": "execute_result"
    }
   ],
   "source": [
    "dict1"
   ]
  },
  {
   "cell_type": "code",
   "execution_count": 126,
   "id": "a0c40f7e",
   "metadata": {},
   "outputs": [
    {
     "data": {
      "text/plain": [
       "101"
      ]
     },
     "execution_count": 126,
     "metadata": {},
     "output_type": "execute_result"
    }
   ],
   "source": [
    "dict1['id']"
   ]
  },
  {
   "cell_type": "code",
   "execution_count": 127,
   "id": "f8ce25b3",
   "metadata": {},
   "outputs": [
    {
     "data": {
      "text/plain": [
       "'Andrew'"
      ]
     },
     "execution_count": 127,
     "metadata": {},
     "output_type": "execute_result"
    }
   ],
   "source": [
    "dict1['Name']"
   ]
  },
  {
   "cell_type": "code",
   "execution_count": 128,
   "id": "b0c74b69",
   "metadata": {},
   "outputs": [
    {
     "data": {
      "text/plain": [
       "10"
      ]
     },
     "execution_count": 128,
     "metadata": {},
     "output_type": "execute_result"
    }
   ],
   "source": [
    "dict1['Age']"
   ]
  },
  {
   "cell_type": "code",
   "execution_count": 129,
   "id": "d10dc374",
   "metadata": {},
   "outputs": [
    {
     "data": {
      "text/plain": [
       "dict_keys(['id', 'Name', 'Age'])"
      ]
     },
     "execution_count": 129,
     "metadata": {},
     "output_type": "execute_result"
    }
   ],
   "source": [
    "dict1.keys()"
   ]
  },
  {
   "cell_type": "code",
   "execution_count": 130,
   "id": "d6a3b58d",
   "metadata": {},
   "outputs": [
    {
     "data": {
      "text/plain": [
       "dict_values([101, 'Andrew', 10])"
      ]
     },
     "execution_count": 130,
     "metadata": {},
     "output_type": "execute_result"
    }
   ],
   "source": [
    "dict1.values()"
   ]
  },
  {
   "cell_type": "code",
   "execution_count": 131,
   "id": "8c3a1207",
   "metadata": {},
   "outputs": [
    {
     "data": {
      "text/plain": [
       "dict_items([('id', 101), ('Name', 'Andrew'), ('Age', 10)])"
      ]
     },
     "execution_count": 131,
     "metadata": {},
     "output_type": "execute_result"
    }
   ],
   "source": [
    "dict1.items()"
   ]
  },
  {
   "cell_type": "code",
   "execution_count": null,
   "id": "52e3ac7b",
   "metadata": {},
   "outputs": [],
   "source": []
  },
  {
   "cell_type": "code",
   "execution_count": null,
   "id": "01c2c46d",
   "metadata": {},
   "outputs": [],
   "source": []
  },
  {
   "cell_type": "code",
   "execution_count": null,
   "id": "b26249d8",
   "metadata": {},
   "outputs": [],
   "source": []
  },
  {
   "cell_type": "code",
   "execution_count": null,
   "id": "4fe9075e",
   "metadata": {},
   "outputs": [],
   "source": []
  },
  {
   "cell_type": "code",
   "execution_count": null,
   "id": "7d25e65b",
   "metadata": {},
   "outputs": [],
   "source": []
  }
 ],
 "metadata": {
  "kernelspec": {
   "display_name": "Python 3 (ipykernel)",
   "language": "python",
   "name": "python3"
  },
  "language_info": {
   "codemirror_mode": {
    "name": "ipython",
    "version": 3
   },
   "file_extension": ".py",
   "mimetype": "text/x-python",
   "name": "python",
   "nbconvert_exporter": "python",
   "pygments_lexer": "ipython3",
   "version": "3.9.7"
  }
 },
 "nbformat": 4,
 "nbformat_minor": 5
}
